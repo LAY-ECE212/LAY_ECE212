{
 "cells": [
  {
   "cell_type": "markdown",
   "metadata": {},
   "source": [
    "# Week 4"
   ]
  },
  {
   "cell_type": "markdown",
   "metadata": {},
   "source": [
    "## Syntax "
   ]
  },
  {
   "cell_type": "code",
   "execution_count": null,
   "metadata": {},
   "outputs": [],
   "source": [
    "# del . Deletes elements on a list.\n",
    "a = ['one', 'two', 'three']\n",
    "del a[1]\n",
    "print(a)\n",
    "\n",
    "alist = ['a', 'b', 'c', 'd', 'e', 'f']\n",
    "del alist[1:5]\n",
    "print(alist)\n"
   ]
  },
  {
   "cell_type": "code",
   "execution_count": null,
   "metadata": {},
   "outputs": [],
   "source": [
    "# is operator. Checks if two variables point to same object.\n",
    "a = \"banana\"\n",
    "b = \"banana\"\n",
    "\n",
    "print(a is b)\n"
   ]
  },
  {
   "cell_type": "code",
   "execution_count": null,
   "metadata": {},
   "outputs": [],
   "source": [
    "# id. Every object has a unique id.\n",
    "a = \"banana\"\n",
    "b = \"banana\"\n",
    "\n",
    "print(id(a))\n",
    "print(id(b))"
   ]
  },
  {
   "cell_type": "markdown",
   "metadata": {},
   "source": [
    "## Methods"
   ]
  },
  {
   "cell_type": "code",
   "execution_count": null,
   "metadata": {},
   "outputs": [],
   "source": [
    "# .count(). Returns the number of occurences of an item.\n",
    "myList = [0,1,1,0,10,1,12]\n",
    "print(myList)\n",
    "print(myList.count(1))\n",
    "\n",
    "# .index(). Returns the index of the first occurence of an item.\n",
    "print(myList.index(0))\n",
    "print(myList.index(1))\n",
    "\n",
    "# .pop(). Removes the last item and returns it.\n",
    "lastItem = myList.pop()\n",
    "print(myList)\n",
    "print(lastItem)\n",
    "\n",
    "thirdItem = myList.pop(2)\n",
    "print(myList)\n",
    "print(thirdItem)\n"
   ]
  },
  {
   "cell_type": "code",
   "execution_count": null,
   "metadata": {},
   "outputs": [],
   "source": [
    "# .reverse(). Reverses the order.\n",
    "myList = [1,2,3,5,4,6]\n",
    "myList.reverse()\n",
    "print(myList)\n",
    "\n",
    "# .sort(). Sorts the list in ascending order. 1,2,3,4,5 for numbers, a,b,c for strings. \n",
    "# Doesn't work for mixed types inside lists\n",
    "\n",
    "myList.sort()\n",
    "print(myList)"
   ]
  },
  {
   "cell_type": "code",
   "execution_count": null,
   "metadata": {},
   "outputs": [],
   "source": [
    "# .remove(item). Removes the first occurence of an item.\n",
    "myList = ['orange', 'apple','banana','mango','pineapple', 'strawberry','mango']\n",
    "myList.remove('mango')\n",
    "print(myList)"
   ]
  },
  {
   "cell_type": "code",
   "execution_count": null,
   "metadata": {},
   "outputs": [],
   "source": [
    "origlist = [45,32,88]\n",
    "print(\"origlist:\", origlist)\n",
    "print(\"the identifier:\", id(origlist))             #id of the list before changes\n",
    "origlist = origlist + ['cat']\n",
    "print(\"origlist:\", origlist)\n",
    "print(\"the identifier:\", id(origlist))              #id of the list after concatentation\n"
   ]
  },
  {
   "cell_type": "code",
   "execution_count": null,
   "metadata": {},
   "outputs": [],
   "source": [
    "# .strip(). Removes the starting and trailing whitespace of a string.\n",
    "mahString = \"   remove whitespaces    \"\n",
    "print(mahString)\n",
    "print(mahString.strip())"
   ]
  },
  {
   "cell_type": "code",
   "execution_count": null,
   "metadata": {},
   "outputs": [],
   "source": [
    "# .format(). Similar to how C formats string substitutions.\n",
    "origPrice = float(input('Enter the original price: $'))\n",
    "discount = float(input('Enter discount percentage: '))\n",
    "newPrice = (1 - discount/100)*origPrice\n",
    "calculation = '${:.2f} discounted by {}% is ${:.2f}.'.format(origPrice, discount, newPrice)\n",
    "print(calculation)\n"
   ]
  },
  {
   "cell_type": "markdown",
   "metadata": {},
   "source": [
    "## Important notes\n",
    "&emsp;Lists are mutable, while strings and tuples are not. <br>\n",
    "&emsp;Python assigns every object a unique id and when we ask a is b what python is really doing is checking to see if id(a) == id(b)."
   ]
  },
  {
   "cell_type": "code",
   "execution_count": null,
   "metadata": {},
   "outputs": [],
   "source": [
    "# Lists never share the same ID, even if they have the same contents.\n",
    "a = [81,82,83]\n",
    "b = [81,82,83]\n",
    "\n",
    "print(a is b)\n",
    "\n",
    "print(a == b)\n",
    "\n",
    "print(id(a))\n",
    "print(id(b))"
   ]
  },
  {
   "cell_type": "markdown",
   "metadata": {},
   "source": [
    "&emsp;Since variables refer to objects, if we assign one variable to another, both variables refer to the same object. This is called **aliasing.**"
   ]
  },
  {
   "cell_type": "code",
   "execution_count": null,
   "metadata": {},
   "outputs": [],
   "source": [
    "a = [81,82,83]\n",
    "b = [81,82,83]\n",
    "print(a is b)\n",
    "\n",
    "b = a\n",
    "print(a == b)\n",
    "print(a is b)\n",
    "\n",
    "b[0] = 5\n",
    "print(a)\n",
    "# They literally are one body, regardless of who got assigned to who, if you make changes it will affect the other.\n",
    "# Unless... you use the forbidden technique, cloning.\n",
    "# += edits the original list, list = list+x makes a copy"
   ]
  },
  {
   "cell_type": "markdown",
   "metadata": {},
   "source": [
    "### Cloning Lists\n",
    "&emsp; Uses slicing to clone a list. The clone and the original are independent from each other."
   ]
  },
  {
   "cell_type": "code",
   "execution_count": null,
   "metadata": {},
   "outputs": [],
   "source": [
    "a = [81,82,83]\n",
    "\n",
    "b = a[:]       # make a clone using slice\n",
    "print(a == b)\n",
    "print(a is b)\n",
    "\n",
    "b[0] = 5\n",
    "\n",
    "print(a)\n",
    "print(b)"
   ]
  },
  {
   "cell_type": "markdown",
   "metadata": {},
   "source": [
    "### Concatenating Lists\n",
    "&emsp;Using list = list + [item] will change its id. Use .append() for no id changes."
   ]
  },
  {
   "cell_type": "code",
   "execution_count": null,
   "metadata": {},
   "outputs": [],
   "source": [
    "origlist = [45,32,88]\n",
    "print(\"origlist:\", origlist)\n",
    "print(\"the identifier:\", id(origlist))             #id of the list before changes\n",
    "origlist = origlist + ['cat']\n",
    "print(\"origlist:\", origlist)\n",
    "print(\"the identifier:\", id(origlist))              #id of the list after concatentation\n",
    "\n",
    "print(\" \")\n",
    "\n",
    "list1 = [1,2,3]\n",
    "print(list1)\n",
    "print(id(list1))\n",
    "list1.append(4)\n",
    "print(list1)\n",
    "print(id(list1))"
   ]
  }
 ],
 "metadata": {
  "kernelspec": {
   "display_name": "Python 3",
   "language": "python",
   "name": "python3"
  },
  "language_info": {
   "codemirror_mode": {
    "name": "ipython",
    "version": 3
   },
   "file_extension": ".py",
   "mimetype": "text/x-python",
   "name": "python",
   "nbconvert_exporter": "python",
   "pygments_lexer": "ipython3",
   "version": "3.7.3"
  }
 },
 "nbformat": 4,
 "nbformat_minor": 2
}
