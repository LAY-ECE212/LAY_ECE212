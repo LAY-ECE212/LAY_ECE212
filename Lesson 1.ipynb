{
 "cells": [
  {
   "cell_type": "markdown",
   "metadata": {},
   "source": [
    "# Lesson 1: Introduction to Python\n",
    "As someone who studied a bit of C in the previous summer vacation, I can clearly see the difference between a low-level language and a high-level one. Python is really like elementary maths compared to C. **The level of language is based on how near or far the language is from machine language.** Typically, high-level languages are designed for human convenience, just like how Python has an exponential operator (double asterisks) while C does not.\n",
    "\n",
    "### Two kinds of programs processes high-level languages to a low-level one:<br>\n",
    "&emsp;&emsp;__Source Code >> Interpreter >> Output__<br>\n",
    "&emsp;&emsp;__Source Code >> Compiler >> Object Code >> Executor >> Output__\n",
    "     \n",
    "Personally, I prefer the second process because the machine doesn't need to read and transform the source code every time the code is used. Object code is much nearer to the machine code, making the execution faster.\n",
    "***\n",
    "Some terms that I need to familiarize with:<br>\n",
    "&emsp;&emsp;__Program__ - Set of instructions<br>\n",
    "&emsp;&emsp;__Input__ - Get data from something<br>\n",
    "&emsp;&emsp;__Output__ - Display data <br>\n",
    "&emsp;&emsp;__Math and Logic__ - Arithmetic and logical operators (&, !, etc.)<br>\n",
    "&emsp;&emsp;__Conditional execution__ - &&, ==, ||, and others<br>\n",
    "&emsp;&emsp;__Repetition__ - The infamous for and while loops, usually with if statements for variations\n",
    "***\n",
    "    \n",
    "### Control Structures\n",
    "&emsp;&emsp;Pieces of codes that dictates how should a program flow. Do we repeat this? What if? Do this then do that.<br>\n",
    "&emsp;&emsp;Some control structures in Python are:\n",
    "    \n",
    "        if-else statements\n",
    "        for and while loops\n",
    "        Boolean logic\n",
    "        Lists\n",
    "    "
   ]
  },
  {
   "cell_type": "code",
   "execution_count": null,
   "metadata": {},
   "outputs": [],
   "source": [
    "foo = int(input())\n",
    "bar = int(input())\n",
    "if foo > bar: # Do this, oh btw this is how you do comments in Python\n",
    "    print(\"I don't really know what foo and bar are about, I'm just trying to make a programming joke so that I can get some confidence in my programming skills\")\n",
    "else: # Do this instead\n",
    "    print(\"Plz tell me I'm funny\")"
   ]
  },
  {
   "cell_type": "markdown",
   "metadata": {},
   "source": [
    "## Natural and Formal Languages\n",
    "   Natural languages are basically Spanish, American, Japanese, etc.\n",
    "   Formal languages are designed for specific purpose, like programming languages, mathematical notation, Latex,\n",
    "   etc.<br>\n",
    "    \n",
    "&emsp;&emsp;__Syntax__ is the grammar of formal languages.<br>\n",
    "&emsp;&emsp;__Tokens__ are the words, numbers, etc. <br>\n",
    "&emsp;&emsp;__Structure__ is how the tokens are arranged.<br>\n",
    "&emsp;&emsp;__Parsing__ is figuring what is the structure of the sentence. What is the variable name? What is being repeated?<br>\n",
    "&emsp;&emsp;__Semantics__ is the meaning of the sentence.\n",
    "\n",
    "    \n",
    "### Differences between Natural and Formal languages:\n",
    "    \n",
    "    ambiguity\n",
    "    redundancy\n",
    "    literalness\n",
    "    poetry\n",
    "    prose\n",
    "    program"
   ]
  },
  {
   "cell_type": "markdown",
   "metadata": {},
   "source": [
    "## Application\n",
    "Ask Yourself\n",
    "1. Why do you think Python is the most applicable programming language for scientific computing?\n",
    "        * It is easy to code and read, and has many libraries and functions to make things easier.\n",
    "2. If Python can build anything, where do you think Python is not applicable for?\n",
    "        * Like other programming languages, Python has areas that it is advantageous and disadvantageous.\n",
    "        Embedded systems, which has tight constraints on software and hardware, mainly use C because it is \n",
    "        a low-level language and therefore fast. Many browsers also use Javascript because it can be used as both\n",
    "        front end and backend languages."
   ]
  },
  {
   "cell_type": "code",
   "execution_count": 6,
   "metadata": {},
   "outputs": [
    {
     "name": "stdout",
     "output_type": "stream",
     "text": [
      "Carl Jefferson Lay\n",
      "#11\n",
      "Doña Aurelia Village\n",
      "OldAirport Road\n",
      "Sasa\n",
      "Davao City\n"
     ]
    }
   ],
   "source": [
    "# Exercise 1: Mailing Address\n",
    "print(\"Carl Jefferson Lay\\n#11\\nDoña Aurelia Village\\nOldAirport Road\\nSasa\\nDavao City\")"
   ]
  },
  {
   "cell_type": "code",
   "execution_count": null,
   "metadata": {},
   "outputs": [],
   "source": [
    "# Exercise 2: Area of a Room\n",
    "length = float(input(\"Enter the length of the room in meters: \"))\n",
    "width = float(input(\"Enter the width of the room in meters: \"))\n",
    "area = str(length*width)\n",
    "print(\"The area of the room is \" + area + \" square meters.\")"
   ]
  },
  {
   "cell_type": "code",
   "execution_count": null,
   "metadata": {},
   "outputs": [],
   "source": [
    "# Exercise 3: Arithmetic\n",
    "import math\n",
    "a = int(input(\"Enter the first integer a: \"))\n",
    "b = int(input(\"Enter the second integer b: \"))\n",
    "print(\"The sum of a and b is \" + str(a+b))\n",
    "print(\"The difference when b is subtracted from a is \" + str(a-b))\n",
    "print(\"The product of a and b is \" + str(a*b));\n",
    "print(\"The quotient when a is divided by b is \" + str(a/b))\n",
    "print(\"The remainder when a is divided by b is \" + str(a%b))\n",
    "print(\"The result of log10 a is \" + str(math.log10(a)))\n",
    "print(\"The result of ab is \" + str(a) + str(b))"
   ]
  },
  {
   "cell_type": "code",
   "execution_count": 3,
   "metadata": {},
   "outputs": [
    {
     "name": "stdout",
     "output_type": "stream",
     "text": [
      "Enter the radius r: 4\n",
      "The area of a circle with radius r is 50.26548245743669\n",
      "The volume of a sphere with radius r is 268.082573106329\n"
     ]
    }
   ],
   "source": [
    "# Exercise 4: Area and Volume\n",
    "import math\n",
    "r = float(input(\"Enter the radius r: \"))\n",
    "print(\"The area of a circle with radius r is \" + str(math.pi * r**2))\n",
    "print(\"The volume of a sphere with radius r is \" + str(4 / 3 * math.pi * r**3))\n"
   ]
  }
 ],
 "metadata": {
  "kernelspec": {
   "display_name": "Python 3",
   "language": "python",
   "name": "python3"
  },
  "language_info": {
   "codemirror_mode": {
    "name": "ipython",
    "version": 3
   },
   "file_extension": ".py",
   "mimetype": "text/x-python",
   "name": "python",
   "nbconvert_exporter": "python",
   "pygments_lexer": "ipython3",
   "version": "3.7.3"
  }
 },
 "nbformat": 4,
 "nbformat_minor": 2
}
