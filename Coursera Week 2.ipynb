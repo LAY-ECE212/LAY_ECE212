{
 "cells": [
  {
   "cell_type": "markdown",
   "metadata": {},
   "source": [
    "# Week 2\n",
    "\n",
    "## Syntax"
   ]
  },
  {
   "cell_type": "code",
   "execution_count": null,
   "metadata": {},
   "outputs": [],
   "source": [
    "# List\n",
    "my_list = [10, \"baked potatoes\", 6.9, 420]\n",
    "print(my_list[0])"
   ]
  },
  {
   "cell_type": "code",
   "execution_count": null,
   "metadata": {},
   "outputs": [],
   "source": [
    "# Tuple\n",
    "my_tuple = (10, \"baked sweet potato\", \"french fries\")\n",
    "oneElement = (10,)\n",
    "print(my_tuple[-1])"
   ]
  },
  {
   "cell_type": "code",
   "execution_count": null,
   "metadata": {},
   "outputs": [],
   "source": [
    "# for loop\n",
    "for n in [1,2,3,4,5]:\n",
    "    print(n)"
   ]
  },
  {
   "cell_type": "markdown",
   "metadata": {},
   "source": [
    "## Functions"
   ]
  },
  {
   "cell_type": "code",
   "execution_count": null,
   "metadata": {},
   "outputs": [],
   "source": [
    "# len() number of elements in a list or string\n",
    "string = \"My cowardly pride and haughty shame.\"\n",
    "lst = [1,2,3,4,5,6]\n",
    "print(len(string))\n",
    "print(len(lst))"
   ]
  },
  {
   "cell_type": "code",
   "execution_count": null,
   "metadata": {},
   "outputs": [],
   "source": [
    "# list() casts something into a list\n",
    "x = list(range(5))\n",
    "for n in x:\n",
    "    print(n)"
   ]
  },
  {
   "cell_type": "code",
   "execution_count": null,
   "metadata": {},
   "outputs": [],
   "source": [
    "# range(x) creates iteration of x elements exclusive of x\n",
    "x = range(9)\n",
    "for n in x:\n",
    "    print(n)"
   ]
  },
  {
   "cell_type": "markdown",
   "metadata": {},
   "source": [
    "## Methods\n",
    "    "
   ]
  },
  {
   "cell_type": "code",
   "execution_count": null,
   "metadata": {},
   "outputs": [],
   "source": [
    "# .count() counts how many times the argument is found\n",
    "username = \"aaaaabbbaaaa\"\n",
    "count = username.count(\"b\")\n",
    "print(count)"
   ]
  },
  {
   "cell_type": "code",
   "execution_count": null,
   "metadata": {},
   "outputs": [],
   "source": [
    "# .index() returns the leftmost index in which the argument is found\n",
    "music = \"Pull out your music and dancing can begin\"\n",
    "bio = [\"Metatarsal\", \"Metatarsal\", \"Fibula\", [], \"Tibia\", \"Tibia\", 43, \"Femur\", \"Occipital\", \"Metatarsal\"]\n",
    "\n",
    "print(music.index(\"m\"))\n",
    "print(music.index(\"your\"))\n",
    "\n",
    "print(bio.index(\"Metatarsal\"))\n",
    "print(bio.index([]))\n",
    "print(bio.index(43))\n",
    "\n",
    "qu = \"wow, welcome week!\"\n",
    "ty = qu.index(\"we\") # Returns the index of the first char\n",
    "print(ty)\n"
   ]
  },
  {
   "cell_type": "code",
   "execution_count": null,
   "metadata": {},
   "outputs": [],
   "source": [
    "# .split() arguments is the boundary, turns the words in the string into parts of a list\n",
    "song = \"The rain in Spain...\"\n",
    "wds = song.split()\n",
    "print(wds)\n",
    "\n",
    "#An optional argument called a delimiter can be used to specify which characters to use as word boundaries.\n",
    "song = \"The rain in Spain...\"\n",
    "wds = song.split('ai')\n",
    "print(wds)"
   ]
  },
  {
   "cell_type": "code",
   "execution_count": null,
   "metadata": {},
   "outputs": [],
   "source": [
    "#.join()The inverse of the split method is join. You choose a desired separator string, (often called the glue) \n",
    "#and join the list with the glue between each of the elements.\n",
    "wds = [\"red\", \"blue\", \"green\"]\n",
    "glue = ';'\n",
    "s = glue.join(wds)\n",
    "print(s)\n",
    "print(wds)\n",
    "\n",
    "print(\"***\".join(wds))\n",
    "print(\" \".join(wds))\n"
   ]
  },
  {
   "cell_type": "markdown",
   "metadata": {},
   "source": [
    "## Important notes\n",
    "&emsp;The difference between list and tuple is that the contents of tuple cannot be changed.<br>\n",
    "&emsp;A string is a bunch of characters.<br>\n",
    "&emsp;+ operator concatenates lists. <br>\n"
   ]
  },
  {
   "cell_type": "markdown",
   "metadata": {},
   "source": [
    "## Notes\n",
    "&emsp;Strings are arrays of characters."
   ]
  },
  {
   "cell_type": "code",
   "execution_count": null,
   "metadata": {},
   "outputs": [],
   "source": [
    "randomString = \"Print the fourth character\"\n",
    "print(randomString[3])\n",
    "# Can also use a variable to assign to it"
   ]
  },
  {
   "cell_type": "markdown",
   "metadata": {},
   "source": [
    "&emsp;The negative indices of a string starts from the last character."
   ]
  },
  {
   "cell_type": "code",
   "execution_count": null,
   "metadata": {},
   "outputs": [],
   "source": [
    "randomString = \"Print the last and first characters using negative indices\"\n",
    "print(randomString[-1])\n",
    "print(randomString[-58])"
   ]
  },
  {
   "cell_type": "markdown",
   "metadata": {},
   "source": [
    "&emsp;Slicing"
   ]
  },
  {
   "cell_type": "code",
   "execution_count": null,
   "metadata": {},
   "outputs": [],
   "source": [
    "name = \"Core Cresfall\"\n",
    "print(name[0:4])\n",
    "print(name[:4])\n",
    "print(name[0:])\n",
    "print(name[:])\n",
    "print(name[-4:-1])"
   ]
  },
  {
   "cell_type": "code",
   "execution_count": null,
   "metadata": {},
   "outputs": [],
   "source": [
    "cart = [\"Lettuce\", \"Apple\", \"Steak\", \"Pie\"]\n",
    "print(cart[0:3])"
   ]
  }
 ],
 "metadata": {
  "kernelspec": {
   "display_name": "Python 3",
   "language": "python",
   "name": "python3"
  },
  "language_info": {
   "codemirror_mode": {
    "name": "ipython",
    "version": 3
   },
   "file_extension": ".py",
   "mimetype": "text/x-python",
   "name": "python",
   "nbconvert_exporter": "python",
   "pygments_lexer": "ipython3",
   "version": "3.7.3"
  }
 },
 "nbformat": 4,
 "nbformat_minor": 2
}
